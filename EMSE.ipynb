{
  "nbformat": 4,
  "nbformat_minor": 0,
  "metadata": {
    "colab": {
      "provenance": []
    },
    "kernelspec": {
      "name": "python3",
      "display_name": "Python 3"
    },
    "language_info": {
      "name": "python"
    }
  },
  "cells": [
    {
      "cell_type": "code",
      "source": [
        "## Add the shortcut of the shared folder in your drive's home page\n",
        "\n",
        "from google.colab import drive\n",
        "drive.mount('/content/drive')"
      ],
      "metadata": {
        "colab": {
          "base_uri": "https://localhost:8080/"
        },
        "id": "7mSsiMWHQ66Q",
        "outputId": "e87b7885-c24d-4b8a-fcd3-7efaac13e6b2"
      },
      "execution_count": 1,
      "outputs": [
        {
          "output_type": "stream",
          "name": "stdout",
          "text": [
            "Mounted at /content/drive\n"
          ]
        }
      ]
    },
    {
      "cell_type": "markdown",
      "source": [
        "## Analysis 1 - holidays\n",
        "\n",
        "Plots at bottom\n",
        "\n",
        "We took all the messages and their timestamp,\n",
        "We mainly focus on two holidays, christmas and newyear.<br>\n",
        "\n",
        "we basically plot two bargraphs for a particular holiday. One with number of conversations and other with user engagement.<br>\n",
        "\n",
        "To show the difference takes place on christmas, I took 3 days before christmas and 3 days after christmas to plot the graph.<br>\n",
        "\n",
        "#### What is user engagement?\n",
        "If we take a conversation(x) from python_general from August 2020<br>\n",
        "user_engagement_of x = Unique users in conversation x / unique users of python_general in august 2020\n",
        "\n",
        "### Steps to get the graphs\n",
        "1 - I separated the conversation based on date of interest <br>\n",
        "2 - Then took the count of messages of each conversation on each date of interest to plot the No. conversations graph <br>\n",
        "3 - Then with the conversations happened on each date of interest . I took the average on user engagement between individual conversation and gave a userengagement value to that date. \n",
        "4 - With values obtained from 3 i plotted the engagement graph\n",
        "\n",
        "## Analysis - Results\n",
        "\n",
        "It turns out to be, the community is not active during the holidays. infacet the community tends to be slow on holiday and days before the holidays. After holidays the community is very engaging. <br>\n",
        "It is peculiar that user engaement on christmas is high, which contradicts with prev statemnt. But if you look at number of messages on christmas it is relatively low. By our user engagemnt formula we calculate the engagemnt on conversations, in some conversation the engagement is high which leads to this big average on christmas. If we take the number of messages into account it is negligible. \n"
      ],
      "metadata": {
        "id": "FjsFxT4MPK8H"
      }
    },
    {
      "cell_type": "markdown",
      "source": [
        "## Analysis 2 weekend and weekdays\n",
        "Steps:<br>\n",
        "\n",
        "Took count on messages that are posted on a particular day. Grpah plotted on each community\n",
        "\n",
        "Formula: Mean of No. of mesages between interested days. \n",
        "\n",
        "\n",
        "### Analysis results\n",
        "\n",
        "The avg messages on weekend is less than the weekdays.\n",
        "\n",
        "future work: we can include engement"
      ],
      "metadata": {
        "id": "S63eygaNTz1N"
      }
    },
    {
      "cell_type": "markdown",
      "source": [
        "# Data Xml to Csv"
      ],
      "metadata": {
        "id": "7rp5aMgHWzNW"
      }
    },
    {
      "cell_type": "code",
      "source": [
        "# ## These commented code just takes all the xml files and export everything to one big csv\n",
        "\n",
        "# import os\n",
        "\n",
        "# main_folder = []\n",
        "# sub_folders = []\n",
        "# file_name = []\n",
        "\n",
        "\n",
        "# for dir, sub_dirs, files in os.walk(\"/content/drive/MyDrive/2IMP40_EMSE_Project/DISCO-A Dataset of Discord Chat Conversations for Software Engineering Research/data/\"):\n",
        "#     main_folder.extend(sub_dirs)\n",
        "\n",
        "# for name in main_folder:\n",
        "#   x = []\n",
        "#   for dir, sub_dirs, files in os.walk(\"/content/drive/MyDrive/2IMP40_EMSE_Project/DISCO-A Dataset of Discord Chat Conversations for Software Engineering Research/data/\"+name+\"/\"):\n",
        "#     x.extend(sub_dirs)\n",
        "\n",
        "#   for i in x:\n",
        "#     sub_folders.append(\"/content/drive/MyDrive/2IMP40_EMSE_Project/DISCO-A Dataset of Discord Chat Conversations for Software Engineering Research/data/\"+name+\"/\" +i +\"/\")\n",
        "\n",
        "\n",
        "# for name in sub_folders:\n",
        "#   x = []\n",
        "#   for dir, sub_dirs, files in os.walk(name):\n",
        "#     x.extend(files)\n",
        "    \n",
        "#     for i in x:\n",
        "      \n",
        "#       if \"out\" in i:\n",
        "\n",
        "#         file_name.append(name+i)\n",
        "\n"
      ],
      "metadata": {
        "id": "5qrr_3uW0WO5"
      },
      "execution_count": 78,
      "outputs": []
    },
    {
      "cell_type": "code",
      "source": [
        "# <team_domain>Python</team_domain>\n",
        "# <channel_name>python-general</channel_name>\n",
        "# <start_date>2020-04-01T00:02:12.875000</start_date>\n",
        "# <end_date>2020-04-30T18:29:02.455000</end_date>\n",
        "# <message conversation_id=\"1\">"
      ],
      "metadata": {
        "id": "Q8Z-ObWISaNq"
      },
      "execution_count": 79,
      "outputs": []
    },
    {
      "cell_type": "code",
      "source": [
        "# import xml.etree.ElementTree as ET\n",
        "# import pandas\n",
        "\n",
        "# dic = {}\n",
        "\n",
        "# df_cols = [\"conversation_id\", \"channel_name\", \"ts\", \"text\", \"user\", \"start_date\",\"end_date\", \"timeframe\", \"weekday\", \"is_weekend\"]\n",
        "# rows = []\n",
        "\n",
        "\n",
        "# for i in file_name:\n",
        "#   tree = ET.parse(i) \n",
        "\n",
        "\n",
        "#   channel_name = \"\"\n",
        "#   start_date = \"\"\n",
        "#   end_date = \"\"\n",
        "\n",
        "#   for element in tree.getroot():\n",
        "#     if element.tag == \"channel_name\":\n",
        "#       channel_name = element.text\n",
        "#     if element.tag == \"start_date\":\n",
        "#       start_date = element.text\n",
        "#     if element.tag == \"end_date\":\n",
        "#       end_date = element.text\n",
        "      \n",
        "#     if \"conversation_id\" in element.attrib:\n",
        "#       conversationId = element.attrib[\"conversation_id\"] \n",
        "#       data = {}\n",
        "#       data[\"conversation_id\"] = conversationId\n",
        "#       data[\"channel_name\"] = channel_name\n",
        "#       data[\"start_date\"] = start_date\n",
        "#       data[\"end_date\"] = end_date\n",
        "#       data[\"timeframe\"] = start_date+\"*\"+end_date\n",
        "\n",
        "#       for child in element.findall(\"*\"):\n",
        "#           data[child.tag] = child.text\n",
        "#       split = data[\"ts\"].split(\"T\")[0]\n",
        "#       if split in dic:    \n",
        "#         dic[split].append(data)\n",
        "#       else:\n",
        "#         dic[split] = []\n",
        "#         dic[split].append(data)\n",
        "      \n",
        "#       data[\"weekday\"] = pd.to_datetime(data[\"ts\"]).weekday()\n",
        "\n",
        "#       if data[\"weekday\"] > 4:\n",
        "#         data[\"is_weekend\"] =True\n",
        "#       else:\n",
        "#         data[\"is_weekend\"] =False\n",
        "\n",
        "#       rows.append(data)\n",
        "\n",
        "\n",
        "\n",
        "      \n",
        "\n"
      ],
      "metadata": {
        "id": "2-N9Rjc_bbS0"
      },
      "execution_count": 80,
      "outputs": []
    },
    {
      "cell_type": "code",
      "source": [
        "# import pandas as pd\n",
        "# out_df = pd.DataFrame(rows, columns = df_cols)\n",
        "# out_df[\"ts\"] = pd.to_datetime(out_df[\"ts\"])\n",
        "\n",
        "# out_df.to_csv(\"/content/drive/MyDrive/2IMP40_EMSE_Project/discord_data\")"
      ],
      "metadata": {
        "id": "SFhVvYWTmSqE"
      },
      "execution_count": 81,
      "outputs": []
    },
    {
      "cell_type": "markdown",
      "source": [
        "# Load DISCO from preprocessed CSV"
      ],
      "metadata": {
        "id": "X0hbSMv5W5Sa"
      }
    },
    {
      "cell_type": "code",
      "source": [
        "import pandas as pd\n",
        "out_df = pd.read_csv(\"/content/drive/MyDrive/2IMP40_EMSE_Project/discord_data\")\n",
        "out_df[\"ts\"] = pd.to_datetime(out_df[\"ts\"])"
      ],
      "metadata": {
        "id": "c0tDn99iRZmP"
      },
      "execution_count": 82,
      "outputs": []
    },
    {
      "cell_type": "code",
      "source": [
        "out_df.head()"
      ],
      "metadata": {
        "colab": {
          "base_uri": "https://localhost:8080/",
          "height": 455
        },
        "id": "qZMxS3XRtlfE",
        "outputId": "4268575c-af88-4611-94db-9596d1e49cbe"
      },
      "execution_count": 83,
      "outputs": [
        {
          "output_type": "execute_result",
          "data": {
            "text/plain": [
              "   Unnamed: 0  conversation_id channel_name                      ts  \\\n",
              "0           0                1      clojure 2020-05-06 05:35:13.419   \n",
              "1           1                1      clojure 2020-05-06 05:36:04.963   \n",
              "2           2                2      clojure 2020-05-06 06:27:59.282   \n",
              "3           3                3      clojure 2020-05-06 14:54:11.999   \n",
              "4           4                3      clojure 2020-05-06 14:54:33.463   \n",
              "\n",
              "                                                text    user  \\\n",
              "0  HelloI have multiple agents for example 100s o...  Azahel   \n",
              "1            Do you have a collection of all agents?   Savvi   \n",
              "2                                   @ashish_prabhune   Savvi   \n",
              "3  @ashish_prabhune https://clojure.org/reference...  Amarri   \n",
              "4  https://clojure.org/reference/sequences#_seq_i...  Amarri   \n",
              "\n",
              "                   start_date                    end_date  \\\n",
              "0  2020-05-06T05:35:13.419000  2020-07-30T21:37:35.713000   \n",
              "1  2020-05-06T05:35:13.419000  2020-07-30T21:37:35.713000   \n",
              "2  2020-05-06T05:35:13.419000  2020-07-30T21:37:35.713000   \n",
              "3  2020-05-06T05:35:13.419000  2020-07-30T21:37:35.713000   \n",
              "4  2020-05-06T05:35:13.419000  2020-07-30T21:37:35.713000   \n",
              "\n",
              "                                           timeframe  weekday  is_weekend  \n",
              "0  2020-05-06T05:35:13.419000*2020-07-30T21:37:35...        2       False  \n",
              "1  2020-05-06T05:35:13.419000*2020-07-30T21:37:35...        2       False  \n",
              "2  2020-05-06T05:35:13.419000*2020-07-30T21:37:35...        2       False  \n",
              "3  2020-05-06T05:35:13.419000*2020-07-30T21:37:35...        2       False  \n",
              "4  2020-05-06T05:35:13.419000*2020-07-30T21:37:35...        2       False  "
            ],
            "text/html": [
              "\n",
              "  <div id=\"df-54178d43-3ddc-4aaa-b2ed-9ff76bfc78e8\">\n",
              "    <div class=\"colab-df-container\">\n",
              "      <div>\n",
              "<style scoped>\n",
              "    .dataframe tbody tr th:only-of-type {\n",
              "        vertical-align: middle;\n",
              "    }\n",
              "\n",
              "    .dataframe tbody tr th {\n",
              "        vertical-align: top;\n",
              "    }\n",
              "\n",
              "    .dataframe thead th {\n",
              "        text-align: right;\n",
              "    }\n",
              "</style>\n",
              "<table border=\"1\" class=\"dataframe\">\n",
              "  <thead>\n",
              "    <tr style=\"text-align: right;\">\n",
              "      <th></th>\n",
              "      <th>Unnamed: 0</th>\n",
              "      <th>conversation_id</th>\n",
              "      <th>channel_name</th>\n",
              "      <th>ts</th>\n",
              "      <th>text</th>\n",
              "      <th>user</th>\n",
              "      <th>start_date</th>\n",
              "      <th>end_date</th>\n",
              "      <th>timeframe</th>\n",
              "      <th>weekday</th>\n",
              "      <th>is_weekend</th>\n",
              "    </tr>\n",
              "  </thead>\n",
              "  <tbody>\n",
              "    <tr>\n",
              "      <th>0</th>\n",
              "      <td>0</td>\n",
              "      <td>1</td>\n",
              "      <td>clojure</td>\n",
              "      <td>2020-05-06 05:35:13.419</td>\n",
              "      <td>HelloI have multiple agents for example 100s o...</td>\n",
              "      <td>Azahel</td>\n",
              "      <td>2020-05-06T05:35:13.419000</td>\n",
              "      <td>2020-07-30T21:37:35.713000</td>\n",
              "      <td>2020-05-06T05:35:13.419000*2020-07-30T21:37:35...</td>\n",
              "      <td>2</td>\n",
              "      <td>False</td>\n",
              "    </tr>\n",
              "    <tr>\n",
              "      <th>1</th>\n",
              "      <td>1</td>\n",
              "      <td>1</td>\n",
              "      <td>clojure</td>\n",
              "      <td>2020-05-06 05:36:04.963</td>\n",
              "      <td>Do you have a collection of all agents?</td>\n",
              "      <td>Savvi</td>\n",
              "      <td>2020-05-06T05:35:13.419000</td>\n",
              "      <td>2020-07-30T21:37:35.713000</td>\n",
              "      <td>2020-05-06T05:35:13.419000*2020-07-30T21:37:35...</td>\n",
              "      <td>2</td>\n",
              "      <td>False</td>\n",
              "    </tr>\n",
              "    <tr>\n",
              "      <th>2</th>\n",
              "      <td>2</td>\n",
              "      <td>2</td>\n",
              "      <td>clojure</td>\n",
              "      <td>2020-05-06 06:27:59.282</td>\n",
              "      <td>@ashish_prabhune</td>\n",
              "      <td>Savvi</td>\n",
              "      <td>2020-05-06T05:35:13.419000</td>\n",
              "      <td>2020-07-30T21:37:35.713000</td>\n",
              "      <td>2020-05-06T05:35:13.419000*2020-07-30T21:37:35...</td>\n",
              "      <td>2</td>\n",
              "      <td>False</td>\n",
              "    </tr>\n",
              "    <tr>\n",
              "      <th>3</th>\n",
              "      <td>3</td>\n",
              "      <td>3</td>\n",
              "      <td>clojure</td>\n",
              "      <td>2020-05-06 14:54:11.999</td>\n",
              "      <td>@ashish_prabhune https://clojure.org/reference...</td>\n",
              "      <td>Amarri</td>\n",
              "      <td>2020-05-06T05:35:13.419000</td>\n",
              "      <td>2020-07-30T21:37:35.713000</td>\n",
              "      <td>2020-05-06T05:35:13.419000*2020-07-30T21:37:35...</td>\n",
              "      <td>2</td>\n",
              "      <td>False</td>\n",
              "    </tr>\n",
              "    <tr>\n",
              "      <th>4</th>\n",
              "      <td>4</td>\n",
              "      <td>3</td>\n",
              "      <td>clojure</td>\n",
              "      <td>2020-05-06 14:54:33.463</td>\n",
              "      <td>https://clojure.org/reference/sequences#_seq_i...</td>\n",
              "      <td>Amarri</td>\n",
              "      <td>2020-05-06T05:35:13.419000</td>\n",
              "      <td>2020-07-30T21:37:35.713000</td>\n",
              "      <td>2020-05-06T05:35:13.419000*2020-07-30T21:37:35...</td>\n",
              "      <td>2</td>\n",
              "      <td>False</td>\n",
              "    </tr>\n",
              "  </tbody>\n",
              "</table>\n",
              "</div>\n",
              "      <button class=\"colab-df-convert\" onclick=\"convertToInteractive('df-54178d43-3ddc-4aaa-b2ed-9ff76bfc78e8')\"\n",
              "              title=\"Convert this dataframe to an interactive table.\"\n",
              "              style=\"display:none;\">\n",
              "        \n",
              "  <svg xmlns=\"http://www.w3.org/2000/svg\" height=\"24px\"viewBox=\"0 0 24 24\"\n",
              "       width=\"24px\">\n",
              "    <path d=\"M0 0h24v24H0V0z\" fill=\"none\"/>\n",
              "    <path d=\"M18.56 5.44l.94 2.06.94-2.06 2.06-.94-2.06-.94-.94-2.06-.94 2.06-2.06.94zm-11 1L8.5 8.5l.94-2.06 2.06-.94-2.06-.94L8.5 2.5l-.94 2.06-2.06.94zm10 10l.94 2.06.94-2.06 2.06-.94-2.06-.94-.94-2.06-.94 2.06-2.06.94z\"/><path d=\"M17.41 7.96l-1.37-1.37c-.4-.4-.92-.59-1.43-.59-.52 0-1.04.2-1.43.59L10.3 9.45l-7.72 7.72c-.78.78-.78 2.05 0 2.83L4 21.41c.39.39.9.59 1.41.59.51 0 1.02-.2 1.41-.59l7.78-7.78 2.81-2.81c.8-.78.8-2.07 0-2.86zM5.41 20L4 18.59l7.72-7.72 1.47 1.35L5.41 20z\"/>\n",
              "  </svg>\n",
              "      </button>\n",
              "      \n",
              "  <style>\n",
              "    .colab-df-container {\n",
              "      display:flex;\n",
              "      flex-wrap:wrap;\n",
              "      gap: 12px;\n",
              "    }\n",
              "\n",
              "    .colab-df-convert {\n",
              "      background-color: #E8F0FE;\n",
              "      border: none;\n",
              "      border-radius: 50%;\n",
              "      cursor: pointer;\n",
              "      display: none;\n",
              "      fill: #1967D2;\n",
              "      height: 32px;\n",
              "      padding: 0 0 0 0;\n",
              "      width: 32px;\n",
              "    }\n",
              "\n",
              "    .colab-df-convert:hover {\n",
              "      background-color: #E2EBFA;\n",
              "      box-shadow: 0px 1px 2px rgba(60, 64, 67, 0.3), 0px 1px 3px 1px rgba(60, 64, 67, 0.15);\n",
              "      fill: #174EA6;\n",
              "    }\n",
              "\n",
              "    [theme=dark] .colab-df-convert {\n",
              "      background-color: #3B4455;\n",
              "      fill: #D2E3FC;\n",
              "    }\n",
              "\n",
              "    [theme=dark] .colab-df-convert:hover {\n",
              "      background-color: #434B5C;\n",
              "      box-shadow: 0px 1px 3px 1px rgba(0, 0, 0, 0.15);\n",
              "      filter: drop-shadow(0px 1px 2px rgba(0, 0, 0, 0.3));\n",
              "      fill: #FFFFFF;\n",
              "    }\n",
              "  </style>\n",
              "\n",
              "      <script>\n",
              "        const buttonEl =\n",
              "          document.querySelector('#df-54178d43-3ddc-4aaa-b2ed-9ff76bfc78e8 button.colab-df-convert');\n",
              "        buttonEl.style.display =\n",
              "          google.colab.kernel.accessAllowed ? 'block' : 'none';\n",
              "\n",
              "        async function convertToInteractive(key) {\n",
              "          const element = document.querySelector('#df-54178d43-3ddc-4aaa-b2ed-9ff76bfc78e8');\n",
              "          const dataTable =\n",
              "            await google.colab.kernel.invokeFunction('convertToInteractive',\n",
              "                                                     [key], {});\n",
              "          if (!dataTable) return;\n",
              "\n",
              "          const docLinkHtml = 'Like what you see? Visit the ' +\n",
              "            '<a target=\"_blank\" href=https://colab.research.google.com/notebooks/data_table.ipynb>data table notebook</a>'\n",
              "            + ' to learn more about interactive tables.';\n",
              "          element.innerHTML = '';\n",
              "          dataTable['output_type'] = 'display_data';\n",
              "          await google.colab.output.renderOutput(dataTable, element);\n",
              "          const docLink = document.createElement('div');\n",
              "          docLink.innerHTML = docLinkHtml;\n",
              "          element.appendChild(docLink);\n",
              "        }\n",
              "      </script>\n",
              "    </div>\n",
              "  </div>\n",
              "  "
            ]
          },
          "metadata": {},
          "execution_count": 83
        }
      ]
    },
    {
      "cell_type": "code",
      "source": [
        "out_df.info()"
      ],
      "metadata": {
        "colab": {
          "base_uri": "https://localhost:8080/"
        },
        "id": "b8ILGUvocWdD",
        "outputId": "7c6a253b-d241-4479-de20-6d97e998c0e0"
      },
      "execution_count": 84,
      "outputs": [
        {
          "output_type": "stream",
          "name": "stdout",
          "text": [
            "<class 'pandas.core.frame.DataFrame'>\n",
            "RangeIndex: 1508093 entries, 0 to 1508092\n",
            "Data columns (total 11 columns):\n",
            " #   Column           Non-Null Count    Dtype         \n",
            "---  ------           --------------    -----         \n",
            " 0   Unnamed: 0       1508093 non-null  int64         \n",
            " 1   conversation_id  1508093 non-null  int64         \n",
            " 2   channel_name     1508093 non-null  object        \n",
            " 3   ts               1508093 non-null  datetime64[ns]\n",
            " 4   text             1508092 non-null  object        \n",
            " 5   user             1508093 non-null  object        \n",
            " 6   start_date       1508093 non-null  object        \n",
            " 7   end_date         1508093 non-null  object        \n",
            " 8   timeframe        1508093 non-null  object        \n",
            " 9   weekday          1508093 non-null  int64         \n",
            " 10  is_weekend       1508093 non-null  bool          \n",
            "dtypes: bool(1), datetime64[ns](1), int64(3), object(6)\n",
            "memory usage: 116.5+ MB\n"
          ]
        }
      ]
    },
    {
      "cell_type": "code",
      "source": [
        "out_df['ts_new'] =  pd.to_datetime(out_df['ts'])"
      ],
      "metadata": {
        "id": "qNpcu4DaFe2t"
      },
      "execution_count": 85,
      "outputs": []
    },
    {
      "cell_type": "code",
      "source": [
        "import numpy as np"
      ],
      "metadata": {
        "id": "5HeiZOJgFYGP"
      },
      "execution_count": 87,
      "outputs": []
    },
    {
      "cell_type": "code",
      "source": [
        "out_df['start_time_new'] = pd.to_datetime(out_df['start_date'])\n",
        "out_df['end_time_new'] = pd.to_datetime(out_df['end_date'])"
      ],
      "metadata": {
        "id": "KYTobkxVtfCC"
      },
      "execution_count": 89,
      "outputs": []
    },
    {
      "cell_type": "code",
      "source": [
        "# to_remove = []\n",
        "\n",
        "# rows_now = []\n",
        "# this_data = \"\"\n",
        "# current_convo_rows = []\n",
        "\n",
        "# convo_start_end = []\n",
        "\n",
        "# new_convo = False\n",
        "\n",
        "# this_data = str(out_df.iloc[0][\"conversation_id\"]) + str(out_df.iloc[0][\"timeframe\"]) + str(out_df.iloc[0][\"channel_name\"])\n",
        "\n",
        "\n",
        "# for i, row in out_df.iterrows():\n",
        "#   now_data = str(row[\"conversation_id\"]) + str(row[\"timeframe\"]) + str(row[\"channel_name\"])\n",
        "#   if now_data != this_data:\n",
        "#     new_convo = True\n",
        "#   print(\"Total messages: \", len(current_convo_rows))\n",
        "#   if new_convo:\n",
        "#     first_m = current_convo_rows[0][1]\n",
        "#     last_m = current_convo_rows[-1][1]\n",
        "#     convo_start_end.append([first_m[\"ts\"], last_m[\"ts\"]])\n",
        "#     print(first_m[\"ts\"], last_m[\"ts\"])\n",
        "    \n",
        "#     if first_m[\"ts\"].date != last_m[\"ts\"].date:\n",
        "#       for j in current_convo_rows:\n",
        "#         to_remove.append(j[0])\n",
        "#       current_convo_rows = []\n",
        "#       current_convo_rows.append([i,row])\n",
        "#       new_convo = False\n",
        "#   else:\n",
        "#       current_convo_rows.append([i,row])"
      ],
      "metadata": {
        "id": "kb_8PZ7ZcI6z"
      },
      "execution_count": 91,
      "outputs": []
    },
    {
      "cell_type": "code",
      "source": [
        "mask_one_day_convo = (out_df['start_time_new'].dt.date == out_df['end_time_new'].dt.date)\n",
        "df_only_one_day_convo = out_df[~mask_one_day_convo]\n",
        "len(df_only_one_day_convo)"
      ],
      "metadata": {
        "colab": {
          "base_uri": "https://localhost:8080/"
        },
        "id": "a9SLrwNrrVU2",
        "outputId": "580aea68-5005-4e87-8c95-6f3869dd6d3d"
      },
      "execution_count": 92,
      "outputs": [
        {
          "output_type": "execute_result",
          "data": {
            "text/plain": [
              "1508093"
            ]
          },
          "metadata": {},
          "execution_count": 92
        }
      ]
    },
    {
      "cell_type": "code",
      "source": [
        "start_date = '2019-12-16'\n",
        "end_date = '2020-1-13'\n",
        "mask = (out_df['ts_new'] > start_date) & (out_df['ts_new'] <= end_date) & ((out_df['channel_name'] == \"python-general\") | (out_df['channel_name'] == \"golang\"))\n",
        "df_dec_jan = out_df.loc[mask]\n"
      ],
      "metadata": {
        "id": "GNJexRNgFoUq"
      },
      "execution_count": 93,
      "outputs": []
    },
    {
      "cell_type": "code",
      "source": [
        "mask2 = (out_df['ts_new'] >= '2019-12-23') & (out_df['ts_new'] <= \"2019-12-30\") |(out_df['ts_new'] >= \"2019-12-30\") & (out_df['ts_new'] <= \"2020-1-6\")\n",
        "df_only_dates = df_dec_jan.loc[mask2]\n",
        "\n",
        "df_dec_jan.loc[mask2] = np.nan\n",
        "df_dec_jan = df_dec_jan.dropna()"
      ],
      "metadata": {
        "colab": {
          "base_uri": "https://localhost:8080/"
        },
        "id": "NQn_Tf4kGbeT",
        "outputId": "b51ed171-704a-4c10-dcb0-279448ade738"
      },
      "execution_count": 94,
      "outputs": [
        {
          "output_type": "stream",
          "name": "stderr",
          "text": [
            "/usr/local/lib/python3.8/dist-packages/pandas/core/indexing.py:1817: SettingWithCopyWarning: \n",
            "A value is trying to be set on a copy of a slice from a DataFrame.\n",
            "Try using .loc[row_indexer,col_indexer] = value instead\n",
            "\n",
            "See the caveats in the documentation: https://pandas.pydata.org/pandas-docs/stable/user_guide/indexing.html#returning-a-view-versus-a-copy\n",
            "  self._setitem_single_column(loc, value, pi)\n"
          ]
        }
      ]
    },
    {
      "cell_type": "code",
      "source": [
        "df_only_dates.head()"
      ],
      "metadata": {
        "colab": {
          "base_uri": "https://localhost:8080/",
          "height": 489
        },
        "id": "EPEqP7kDYmRH",
        "outputId": "6c92d5b9-1a88-416e-c481-9181b94ff5be"
      },
      "execution_count": 95,
      "outputs": [
        {
          "output_type": "execute_result",
          "data": {
            "text/plain": [
              "        Unnamed: 0  conversation_id channel_name                      ts  \\\n",
              "153421      153421              976       golang 2019-12-23 00:00:10.927   \n",
              "153422      153422              977       golang 2019-12-23 00:02:52.143   \n",
              "153423      153423              976       golang 2019-12-23 00:02:58.759   \n",
              "153424      153424              976       golang 2019-12-23 00:03:01.132   \n",
              "153425      153425              976       golang 2019-12-23 00:03:07.159   \n",
              "\n",
              "                                                     text     user  \\\n",
              "153421  These are normally at the package levelStandar...  Kenmari   \n",
              "153422      im suprised by how much its not done actually    Nader   \n",
              "153423                                                imo    Nader   \n",
              "153424                                        every error    Nader   \n",
              "153425                                               well   Tyasia   \n",
              "\n",
              "                        start_date                    end_date  \\\n",
              "153421  2019-11-01T04:49:13.533000  2020-01-30T23:59:44.864000   \n",
              "153422  2019-11-01T04:49:13.533000  2020-01-30T23:59:44.864000   \n",
              "153423  2019-11-01T04:49:13.533000  2020-01-30T23:59:44.864000   \n",
              "153424  2019-11-01T04:49:13.533000  2020-01-30T23:59:44.864000   \n",
              "153425  2019-11-01T04:49:13.533000  2020-01-30T23:59:44.864000   \n",
              "\n",
              "                                                timeframe  weekday  \\\n",
              "153421  2019-11-01T04:49:13.533000*2020-01-30T23:59:44...        0   \n",
              "153422  2019-11-01T04:49:13.533000*2020-01-30T23:59:44...        0   \n",
              "153423  2019-11-01T04:49:13.533000*2020-01-30T23:59:44...        0   \n",
              "153424  2019-11-01T04:49:13.533000*2020-01-30T23:59:44...        0   \n",
              "153425  2019-11-01T04:49:13.533000*2020-01-30T23:59:44...        0   \n",
              "\n",
              "        is_weekend                  ts_new          start_time_new  \\\n",
              "153421       False 2019-12-23 00:00:10.927 2019-11-01 04:49:13.533   \n",
              "153422       False 2019-12-23 00:02:52.143 2019-11-01 04:49:13.533   \n",
              "153423       False 2019-12-23 00:02:58.759 2019-11-01 04:49:13.533   \n",
              "153424       False 2019-12-23 00:03:01.132 2019-11-01 04:49:13.533   \n",
              "153425       False 2019-12-23 00:03:07.159 2019-11-01 04:49:13.533   \n",
              "\n",
              "                  end_time_new  \n",
              "153421 2020-01-30 23:59:44.864  \n",
              "153422 2020-01-30 23:59:44.864  \n",
              "153423 2020-01-30 23:59:44.864  \n",
              "153424 2020-01-30 23:59:44.864  \n",
              "153425 2020-01-30 23:59:44.864  "
            ],
            "text/html": [
              "\n",
              "  <div id=\"df-57ba3383-000c-40c8-9e57-2e56fff8c518\">\n",
              "    <div class=\"colab-df-container\">\n",
              "      <div>\n",
              "<style scoped>\n",
              "    .dataframe tbody tr th:only-of-type {\n",
              "        vertical-align: middle;\n",
              "    }\n",
              "\n",
              "    .dataframe tbody tr th {\n",
              "        vertical-align: top;\n",
              "    }\n",
              "\n",
              "    .dataframe thead th {\n",
              "        text-align: right;\n",
              "    }\n",
              "</style>\n",
              "<table border=\"1\" class=\"dataframe\">\n",
              "  <thead>\n",
              "    <tr style=\"text-align: right;\">\n",
              "      <th></th>\n",
              "      <th>Unnamed: 0</th>\n",
              "      <th>conversation_id</th>\n",
              "      <th>channel_name</th>\n",
              "      <th>ts</th>\n",
              "      <th>text</th>\n",
              "      <th>user</th>\n",
              "      <th>start_date</th>\n",
              "      <th>end_date</th>\n",
              "      <th>timeframe</th>\n",
              "      <th>weekday</th>\n",
              "      <th>is_weekend</th>\n",
              "      <th>ts_new</th>\n",
              "      <th>start_time_new</th>\n",
              "      <th>end_time_new</th>\n",
              "    </tr>\n",
              "  </thead>\n",
              "  <tbody>\n",
              "    <tr>\n",
              "      <th>153421</th>\n",
              "      <td>153421</td>\n",
              "      <td>976</td>\n",
              "      <td>golang</td>\n",
              "      <td>2019-12-23 00:00:10.927</td>\n",
              "      <td>These are normally at the package levelStandar...</td>\n",
              "      <td>Kenmari</td>\n",
              "      <td>2019-11-01T04:49:13.533000</td>\n",
              "      <td>2020-01-30T23:59:44.864000</td>\n",
              "      <td>2019-11-01T04:49:13.533000*2020-01-30T23:59:44...</td>\n",
              "      <td>0</td>\n",
              "      <td>False</td>\n",
              "      <td>2019-12-23 00:00:10.927</td>\n",
              "      <td>2019-11-01 04:49:13.533</td>\n",
              "      <td>2020-01-30 23:59:44.864</td>\n",
              "    </tr>\n",
              "    <tr>\n",
              "      <th>153422</th>\n",
              "      <td>153422</td>\n",
              "      <td>977</td>\n",
              "      <td>golang</td>\n",
              "      <td>2019-12-23 00:02:52.143</td>\n",
              "      <td>im suprised by how much its not done actually</td>\n",
              "      <td>Nader</td>\n",
              "      <td>2019-11-01T04:49:13.533000</td>\n",
              "      <td>2020-01-30T23:59:44.864000</td>\n",
              "      <td>2019-11-01T04:49:13.533000*2020-01-30T23:59:44...</td>\n",
              "      <td>0</td>\n",
              "      <td>False</td>\n",
              "      <td>2019-12-23 00:02:52.143</td>\n",
              "      <td>2019-11-01 04:49:13.533</td>\n",
              "      <td>2020-01-30 23:59:44.864</td>\n",
              "    </tr>\n",
              "    <tr>\n",
              "      <th>153423</th>\n",
              "      <td>153423</td>\n",
              "      <td>976</td>\n",
              "      <td>golang</td>\n",
              "      <td>2019-12-23 00:02:58.759</td>\n",
              "      <td>imo</td>\n",
              "      <td>Nader</td>\n",
              "      <td>2019-11-01T04:49:13.533000</td>\n",
              "      <td>2020-01-30T23:59:44.864000</td>\n",
              "      <td>2019-11-01T04:49:13.533000*2020-01-30T23:59:44...</td>\n",
              "      <td>0</td>\n",
              "      <td>False</td>\n",
              "      <td>2019-12-23 00:02:58.759</td>\n",
              "      <td>2019-11-01 04:49:13.533</td>\n",
              "      <td>2020-01-30 23:59:44.864</td>\n",
              "    </tr>\n",
              "    <tr>\n",
              "      <th>153424</th>\n",
              "      <td>153424</td>\n",
              "      <td>976</td>\n",
              "      <td>golang</td>\n",
              "      <td>2019-12-23 00:03:01.132</td>\n",
              "      <td>every error</td>\n",
              "      <td>Nader</td>\n",
              "      <td>2019-11-01T04:49:13.533000</td>\n",
              "      <td>2020-01-30T23:59:44.864000</td>\n",
              "      <td>2019-11-01T04:49:13.533000*2020-01-30T23:59:44...</td>\n",
              "      <td>0</td>\n",
              "      <td>False</td>\n",
              "      <td>2019-12-23 00:03:01.132</td>\n",
              "      <td>2019-11-01 04:49:13.533</td>\n",
              "      <td>2020-01-30 23:59:44.864</td>\n",
              "    </tr>\n",
              "    <tr>\n",
              "      <th>153425</th>\n",
              "      <td>153425</td>\n",
              "      <td>976</td>\n",
              "      <td>golang</td>\n",
              "      <td>2019-12-23 00:03:07.159</td>\n",
              "      <td>well</td>\n",
              "      <td>Tyasia</td>\n",
              "      <td>2019-11-01T04:49:13.533000</td>\n",
              "      <td>2020-01-30T23:59:44.864000</td>\n",
              "      <td>2019-11-01T04:49:13.533000*2020-01-30T23:59:44...</td>\n",
              "      <td>0</td>\n",
              "      <td>False</td>\n",
              "      <td>2019-12-23 00:03:07.159</td>\n",
              "      <td>2019-11-01 04:49:13.533</td>\n",
              "      <td>2020-01-30 23:59:44.864</td>\n",
              "    </tr>\n",
              "  </tbody>\n",
              "</table>\n",
              "</div>\n",
              "      <button class=\"colab-df-convert\" onclick=\"convertToInteractive('df-57ba3383-000c-40c8-9e57-2e56fff8c518')\"\n",
              "              title=\"Convert this dataframe to an interactive table.\"\n",
              "              style=\"display:none;\">\n",
              "        \n",
              "  <svg xmlns=\"http://www.w3.org/2000/svg\" height=\"24px\"viewBox=\"0 0 24 24\"\n",
              "       width=\"24px\">\n",
              "    <path d=\"M0 0h24v24H0V0z\" fill=\"none\"/>\n",
              "    <path d=\"M18.56 5.44l.94 2.06.94-2.06 2.06-.94-2.06-.94-.94-2.06-.94 2.06-2.06.94zm-11 1L8.5 8.5l.94-2.06 2.06-.94-2.06-.94L8.5 2.5l-.94 2.06-2.06.94zm10 10l.94 2.06.94-2.06 2.06-.94-2.06-.94-.94-2.06-.94 2.06-2.06.94z\"/><path d=\"M17.41 7.96l-1.37-1.37c-.4-.4-.92-.59-1.43-.59-.52 0-1.04.2-1.43.59L10.3 9.45l-7.72 7.72c-.78.78-.78 2.05 0 2.83L4 21.41c.39.39.9.59 1.41.59.51 0 1.02-.2 1.41-.59l7.78-7.78 2.81-2.81c.8-.78.8-2.07 0-2.86zM5.41 20L4 18.59l7.72-7.72 1.47 1.35L5.41 20z\"/>\n",
              "  </svg>\n",
              "      </button>\n",
              "      \n",
              "  <style>\n",
              "    .colab-df-container {\n",
              "      display:flex;\n",
              "      flex-wrap:wrap;\n",
              "      gap: 12px;\n",
              "    }\n",
              "\n",
              "    .colab-df-convert {\n",
              "      background-color: #E8F0FE;\n",
              "      border: none;\n",
              "      border-radius: 50%;\n",
              "      cursor: pointer;\n",
              "      display: none;\n",
              "      fill: #1967D2;\n",
              "      height: 32px;\n",
              "      padding: 0 0 0 0;\n",
              "      width: 32px;\n",
              "    }\n",
              "\n",
              "    .colab-df-convert:hover {\n",
              "      background-color: #E2EBFA;\n",
              "      box-shadow: 0px 1px 2px rgba(60, 64, 67, 0.3), 0px 1px 3px 1px rgba(60, 64, 67, 0.15);\n",
              "      fill: #174EA6;\n",
              "    }\n",
              "\n",
              "    [theme=dark] .colab-df-convert {\n",
              "      background-color: #3B4455;\n",
              "      fill: #D2E3FC;\n",
              "    }\n",
              "\n",
              "    [theme=dark] .colab-df-convert:hover {\n",
              "      background-color: #434B5C;\n",
              "      box-shadow: 0px 1px 3px 1px rgba(0, 0, 0, 0.15);\n",
              "      filter: drop-shadow(0px 1px 2px rgba(0, 0, 0, 0.3));\n",
              "      fill: #FFFFFF;\n",
              "    }\n",
              "  </style>\n",
              "\n",
              "      <script>\n",
              "        const buttonEl =\n",
              "          document.querySelector('#df-57ba3383-000c-40c8-9e57-2e56fff8c518 button.colab-df-convert');\n",
              "        buttonEl.style.display =\n",
              "          google.colab.kernel.accessAllowed ? 'block' : 'none';\n",
              "\n",
              "        async function convertToInteractive(key) {\n",
              "          const element = document.querySelector('#df-57ba3383-000c-40c8-9e57-2e56fff8c518');\n",
              "          const dataTable =\n",
              "            await google.colab.kernel.invokeFunction('convertToInteractive',\n",
              "                                                     [key], {});\n",
              "          if (!dataTable) return;\n",
              "\n",
              "          const docLinkHtml = 'Like what you see? Visit the ' +\n",
              "            '<a target=\"_blank\" href=https://colab.research.google.com/notebooks/data_table.ipynb>data table notebook</a>'\n",
              "            + ' to learn more about interactive tables.';\n",
              "          element.innerHTML = '';\n",
              "          dataTable['output_type'] = 'display_data';\n",
              "          await google.colab.output.renderOutput(dataTable, element);\n",
              "          const docLink = document.createElement('div');\n",
              "          docLink.innerHTML = docLinkHtml;\n",
              "          element.appendChild(docLink);\n",
              "        }\n",
              "      </script>\n",
              "    </div>\n",
              "  </div>\n",
              "  "
            ]
          },
          "metadata": {},
          "execution_count": 95
        }
      ]
    },
    {
      "cell_type": "markdown",
      "source": [
        "# Data Cleaning methods Might be useful for accurate sentiment analysis\n",
        "\n",
        "here, it just cleans the messages by putting \\<user_tag> if a user is tagged.\\<code> if a code is written. \\<link> if a link is given."
      ],
      "metadata": {
        "id": "nODMW8veXAEB"
      }
    },
    {
      "cell_type": "code",
      "source": [
        "import re\n",
        "#cleaning the data\n",
        "\n",
        "def clean_the_text_message(text):\n",
        "\n",
        "    patterns = [\n",
        "      (r\"@[(^\\S+)]*\",  \"<user_tag>\"),\n",
        "      (r\"http[(^\\S+)]*\", \"<link>\"),\n",
        "      (r\"`+([^`]*)`+\", \"<code>\"),]\n",
        "    return \"\".join([re.sub(pattern[0], pattern[1], str(text)) for pattern in patterns])\n",
        "\n",
        "out_df[\"text\"] = out_df[\"text\"].apply(clean_the_text_message)"
      ],
      "metadata": {
        "id": "BrRwt3AyY4WX"
      },
      "execution_count": 96,
      "outputs": []
    },
    {
      "cell_type": "code",
      "source": [
        "## Prints 10 random text messages present in the dataset\n",
        "print(\"\\n\".join(out_df.sample(10)[\"text\"].tolist()))"
      ],
      "metadata": {
        "colab": {
          "base_uri": "https://localhost:8080/"
        },
        "id": "bpRsBQGXeByf",
        "outputId": "9464b307-44b3-45d7-b7bc-ccaa0b0c3339"
      },
      "execution_count": 97,
      "outputs": [
        {
          "output_type": "stream",
          "name": "stdout",
          "text": [
            "guysguysguys\n",
            "not a textnot a textnot a text\n",
            "ty <user_tag>ty @Darrty @Darr\n",
            "remove that lineremove that lineremove that line\n",
            "<user_tag> can you hop on a free help with me@kwzrd can you hop on a free help with me@kwzrd can you hop on a free help with me\n",
            "> <user_tag> I'm Curious to know how it's done xD<user_tag> then you can watch the tutorial> @SFM61319 I'm Curious to know how it's done xD@Karan then you can watch the tutorial> @SFM61319 I'm Curious to know how it's done xD@Karan then you can watch the tutorial\n",
            "env GOOS=windows GOARCH=amd64 go build test.goenv GOOS=windows GOARCH=amd64 go build test.goenv GOOS=windows GOARCH=amd64 go build test.go\n",
            "because pc was being weirdbecause pc was being weirdbecause pc was being weird\n",
            "and all words are supposed to be capitalizeand all words are supposed to be capitalizeand all words are supposed to be capitalize\n",
            "???\n"
          ]
        }
      ]
    },
    {
      "cell_type": "markdown",
      "source": [
        "# Analysis - 1  (Holidays) "
      ],
      "metadata": {
        "id": "yJVPmMGhXYDa"
      }
    },
    {
      "cell_type": "code",
      "source": [
        "from datetime import date\n",
        "\n",
        "import holidays\n",
        "\n",
        "us_holidays = holidays.UnitedStates()\n",
        "\n",
        "def mark_holiday_ch(text):\n",
        "    return text.month == 12 and text.day == 25\n",
        "\n",
        "def mark_holiday_ny(text):\n",
        "    return text.month == 1 and text.day == 1\n",
        "\n",
        "\n",
        "out_df[\"is_christmas\"] = out_df[\"ts\"].apply(mark_holiday_ch)\n",
        "\n",
        "\n",
        "out_df[\"is_newyear\"] = out_df[\"ts\"].apply(mark_holiday_ny)"
      ],
      "metadata": {
        "id": "CCY-EHjLHm4H"
      },
      "execution_count": 98,
      "outputs": []
    },
    {
      "cell_type": "code",
      "source": [
        "date_day_dict_new_year = {}\n",
        "\n",
        "date_list = list(out_df[out_df[\"is_newyear\"] == True][\"ts\"].unique())\n",
        "for dt in date_list:\n",
        "  date_day_dict_new_year[pd.to_datetime(dt).date()] = pd.to_datetime(dt).weekday()"
      ],
      "metadata": {
        "id": "J5jlKE-e4kaX"
      },
      "execution_count": 99,
      "outputs": []
    },
    {
      "cell_type": "code",
      "source": [
        "date_day_dict_new_year"
      ],
      "metadata": {
        "colab": {
          "base_uri": "https://localhost:8080/"
        },
        "id": "efuL6H1f5DVi",
        "outputId": "9a4466a5-e84e-49b3-e805-e909e4dceeaf"
      },
      "execution_count": 100,
      "outputs": [
        {
          "output_type": "execute_result",
          "data": {
            "text/plain": [
              "{datetime.date(2020, 1, 1): 2}"
            ]
          },
          "metadata": {},
          "execution_count": 100
        }
      ]
    },
    {
      "cell_type": "code",
      "source": [
        "date_day_dict_christmas = {}\n",
        "\n",
        "date_list = list(out_df[out_df[\"is_christmas\"] == True][\"ts\"].unique())\n",
        "for dt in date_list:\n",
        "  date_day_dict_christmas[pd.to_datetime(dt).date()] = pd.to_datetime(dt).weekday()"
      ],
      "metadata": {
        "id": "deKBLGjw6eIF"
      },
      "execution_count": 101,
      "outputs": []
    },
    {
      "cell_type": "code",
      "source": [
        "date_day_dict_christmas"
      ],
      "metadata": {
        "colab": {
          "base_uri": "https://localhost:8080/"
        },
        "id": "U7jyWfdF6lYE",
        "outputId": "16f911cd-e1bb-4c90-a2b0-9157db90a8d4"
      },
      "execution_count": 102,
      "outputs": [
        {
          "output_type": "execute_result",
          "data": {
            "text/plain": [
              "{datetime.date(2019, 12, 25): 2}"
            ]
          },
          "metadata": {},
          "execution_count": 102
        }
      ]
    },
    {
      "cell_type": "code",
      "source": [
        "import datetime\n",
        "\n",
        "# d = datetime.date(2018, 1, 1)\n",
        "# # d = datetime.date(2018, 12, 25)\n",
        "\n",
        "def get_holiday_info(d):\n",
        "  date_list = [d  - datetime.timedelta(days=x-3) for x in range(7)]\n",
        "\n",
        "  # dates = out_df[\"ts\"].to_list()\n",
        "\n",
        "  date_counts = []\n",
        "  for i in date_list:\n",
        "    date_counts.append([])\n",
        "\n",
        "  for ts, channel_name, timeframe, conversation_id in zip(out_df['ts'], out_df['channel_name'],out_df['timeframe'], out_df['conversation_id']):\n",
        "    for idx, i in enumerate(date_list):\n",
        "      if ts.month == i.month and ts.day == i.day:\n",
        "        date_counts[idx].append([conversation_id, channel_name, timeframe, ts])\n",
        "  return [date_counts, date_list]\n",
        "\n",
        "\n",
        "ny = get_holiday_info(datetime.date(2018, 1, 1))\n",
        "ch = get_holiday_info(datetime.date(2018, 12, 25))\n",
        "\n"
      ],
      "metadata": {
        "id": "L-ZKcCS9LDqs"
      },
      "execution_count": 103,
      "outputs": []
    },
    {
      "cell_type": "code",
      "source": [
        "ny[1]"
      ],
      "metadata": {
        "colab": {
          "base_uri": "https://localhost:8080/"
        },
        "id": "tdoUzg9bTKE3",
        "outputId": "a74afaa8-b187-4234-e3d2-9e13d1d7ad92"
      },
      "execution_count": 104,
      "outputs": [
        {
          "output_type": "execute_result",
          "data": {
            "text/plain": [
              "[datetime.date(2018, 1, 4),\n",
              " datetime.date(2018, 1, 3),\n",
              " datetime.date(2018, 1, 2),\n",
              " datetime.date(2018, 1, 1),\n",
              " datetime.date(2017, 12, 31),\n",
              " datetime.date(2017, 12, 30),\n",
              " datetime.date(2017, 12, 29)]"
            ]
          },
          "metadata": {},
          "execution_count": 104
        }
      ]
    },
    {
      "cell_type": "code",
      "source": [
        "import matplotlib.pyplot as plt\n",
        "import numpy as np\n",
        "\n",
        "\n",
        "\n",
        "fig, ax = plt.subplots()\n",
        "ax.bar([str (x.day) +\"/\" +str(x.month) for x in ny[1]],[len(x) for x in ny[0]])\n",
        "ax.set_title(\"Number of Messages around Newyear\")\n",
        "ax.set_xlabel('Dates')\n",
        "ax.set_ylabel('No. of messages')\n",
        "plt.show()\n"
      ],
      "metadata": {
        "colab": {
          "base_uri": "https://localhost:8080/",
          "height": 295
        },
        "id": "9-cqz_gzSqPp",
        "outputId": "5e5796bd-86ef-4746-9798-24ea56252137"
      },
      "execution_count": 105,
      "outputs": [
        {
          "output_type": "display_data",
          "data": {
            "text/plain": [
              "<Figure size 432x288 with 1 Axes>"
            ],
            "image/png": "[encoded data removed]"
          },
          "metadata": {
            "needs_background": "light"
          }
        }
      ]
    },
    {
      "cell_type": "code",
      "source": [
        "fig, ax = plt.subplots()\n",
        "ax.bar([str (x.day) +\"/\" +str(x.month) for x in ch[1]],[len(x) for x in ch[0]])\n",
        "ax.set_title(\"Number of Messages around Christmas\")\n",
        "ax.set_xlabel('Dates')\n",
        "ax.set_ylabel('No. of messages')\n",
        "plt.show()\n",
        "\n"
      ],
      "metadata": {
        "colab": {
          "base_uri": "https://localhost:8080/",
          "height": 295
        },
        "id": "o_0KYDlFUVSF",
        "outputId": "2797fe98-b637-4275-eb8f-b8f1ace5aa99"
      },
      "execution_count": 106,
      "outputs": [
        {
          "output_type": "display_data",
          "data": {
            "text/plain": [
              "<Figure size 432x288 with 1 Axes>"
            ],
            "image/png": "[encoded data removed]"
          },
          "metadata": {
            "needs_background": "light"
          }
        }
      ]
    },
    {
      "cell_type": "markdown",
      "source": [
        "## Engagement Calculations\n",
        "\n",
        "- Dataframe is splitted into different channels\n",
        "- Engagement of conversations are found"
      ],
      "metadata": {
        "id": "iMW4xfHPXtQ_"
      }
    },
    {
      "cell_type": "code",
      "source": [
        "#total unique users per channel\n",
        "channel_names = out_df[\"channel_name\"].unique()\n",
        "unique_users = {}\n",
        "\n",
        "for channel_name in channel_names:\n",
        "  unique_users[channel_name] = len(out_df[out_df[\"channel_name\"] == channel_name][\"user\"].unique())\n",
        "  print(channel_name,\" : \", unique_users[channel_name])"
      ],
      "metadata": {
        "colab": {
          "base_uri": "https://localhost:8080/"
        },
        "id": "RFO3ME2pQrmC",
        "outputId": "7fef6dd0-2a68-4c69-f520-77be57f6e4ac"
      },
      "execution_count": 107,
      "outputs": [
        {
          "output_type": "stream",
          "name": "stdout",
          "text": [
            "clojure  :  86\n",
            "golang  :  2324\n",
            "python-general  :  21503\n",
            "general  :  123\n"
          ]
        }
      ]
    },
    {
      "cell_type": "code",
      "source": [
        "clojure_df = out_df[out_df[\"channel_name\"] == \"clojure\"]\n",
        "golang_df = out_df[out_df[\"channel_name\"] == \"golang\"]\n",
        "python_general_df = out_df[out_df[\"channel_name\"] == \"python-general\"]\n",
        "general_df = out_df[out_df[\"channel_name\"] == \"general\"]"
      ],
      "metadata": {
        "id": "b24HmZwYh1WA"
      },
      "execution_count": 108,
      "outputs": []
    },
    {
      "cell_type": "code",
      "source": [
        "def get_engagement_communities(df):\n",
        "\n",
        "  \n",
        "  unique_timeframes = df[\"timeframe\"].unique() ## This gives the conversations from the time intervel mentioned in the xml filename eg., clojure_Aug2020-Oct2020.xml\n",
        "  total_engagement = []\n",
        "  col_names = []\n",
        "\n",
        "\n",
        "  for timeframe in unique_timeframes:\n",
        "    cdf = df[df[\"timeframe\"] == timeframe]\n",
        "    convo_ids = cdf[\"conversation_id\"].unique()\n",
        "\n",
        "    for convo_id in convo_ids:\n",
        "      c = {}\n",
        "      c[\"conversation_id\"] = convo_id\n",
        "      c[\"timeframe\"] = timeframe\n",
        "      c[\"users_in_convo\"] = cdf[cdf[\"conversation_id\"] == convo_id][\"user\"].nunique()\n",
        "      c[\"users_in_timeframe\"] = cdf[\"user\"].nunique()\n",
        "      c[\"engagement\"] = c[\"users_in_convo\"]/c[\"users_in_timeframe\"]\n",
        "      total_engagement.append(c)\n",
        "      col_names = c.keys()\n",
        "\n",
        "  return pd.DataFrame(total_engagement, columns = col_names)\n"
      ],
      "metadata": {
        "id": "A_pJmNvJiQj4"
      },
      "execution_count": 109,
      "outputs": []
    },
    {
      "cell_type": "code",
      "source": [
        "clojure_engagement_df = get_engagement_communities(clojure_df)\n",
        "golang_engagement_df = get_engagement_communities(golang_df)\n",
        "python_general_engagement_df = get_engagement_communities(python_general_df)\n",
        "general_engagement_df = get_engagement_communities(general_df)"
      ],
      "metadata": {
        "id": "wu3J_7jHmc1L"
      },
      "execution_count": 110,
      "outputs": []
    },
    {
      "cell_type": "code",
      "source": [
        "clojure_engagement_df.head()"
      ],
      "metadata": {
        "colab": {
          "base_uri": "https://localhost:8080/",
          "height": 204
        },
        "id": "zaiPgRr24wxu",
        "outputId": "01098db6-831e-4a7f-a4ca-67175f92b871"
      },
      "execution_count": 111,
      "outputs": [
        {
          "output_type": "execute_result",
          "data": {
            "text/plain": [
              "   conversation_id                                          timeframe  \\\n",
              "0                1  2020-05-06T05:35:13.419000*2020-07-30T21:37:35...   \n",
              "1                2  2020-05-06T05:35:13.419000*2020-07-30T21:37:35...   \n",
              "2                3  2020-05-06T05:35:13.419000*2020-07-30T21:37:35...   \n",
              "3                4  2020-05-06T05:35:13.419000*2020-07-30T21:37:35...   \n",
              "4                5  2020-05-06T05:35:13.419000*2020-07-30T21:37:35...   \n",
              "\n",
              "   users_in_convo  users_in_timeframe  engagement  \n",
              "0               2                  27    0.074074  \n",
              "1               1                  27    0.037037  \n",
              "2               1                  27    0.037037  \n",
              "3               3                  27    0.111111  \n",
              "4               2                  27    0.074074  "
            ],
            "text/html": [
              "\n",
              "  <div id=\"df-c12d9b78-1854-44f6-9819-6a3a0bacd19d\">\n",
              "    <div class=\"colab-df-container\">\n",
              "      <div>\n",
              "<style scoped>\n",
              "    .dataframe tbody tr th:only-of-type {\n",
              "        vertical-align: middle;\n",
              "    }\n",
              "\n",
              "    .dataframe tbody tr th {\n",
              "        vertical-align: top;\n",
              "    }\n",
              "\n",
              "    .dataframe thead th {\n",
              "        text-align: right;\n",
              "    }\n",
              "</style>\n",
              "<table border=\"1\" class=\"dataframe\">\n",
              "  <thead>\n",
              "    <tr style=\"text-align: right;\">\n",
              "      <th></th>\n",
              "      <th>conversation_id</th>\n",
              "      <th>timeframe</th>\n",
              "      <th>users_in_convo</th>\n",
              "      <th>users_in_timeframe</th>\n",
              "      <th>engagement</th>\n",
              "    </tr>\n",
              "  </thead>\n",
              "  <tbody>\n",
              "    <tr>\n",
              "      <th>0</th>\n",
              "      <td>1</td>\n",
              "      <td>2020-05-06T05:35:13.419000*2020-07-30T21:37:35...</td>\n",
              "      <td>2</td>\n",
              "      <td>27</td>\n",
              "      <td>0.074074</td>\n",
              "    </tr>\n",
              "    <tr>\n",
              "      <th>1</th>\n",
              "      <td>2</td>\n",
              "      <td>2020-05-06T05:35:13.419000*2020-07-30T21:37:35...</td>\n",
              "      <td>1</td>\n",
              "      <td>27</td>\n",
              "      <td>0.037037</td>\n",
              "    </tr>\n",
              "    <tr>\n",
              "      <th>2</th>\n",
              "      <td>3</td>\n",
              "      <td>2020-05-06T05:35:13.419000*2020-07-30T21:37:35...</td>\n",
              "      <td>1</td>\n",
              "      <td>27</td>\n",
              "      <td>0.037037</td>\n",
              "    </tr>\n",
              "    <tr>\n",
              "      <th>3</th>\n",
              "      <td>4</td>\n",
              "      <td>2020-05-06T05:35:13.419000*2020-07-30T21:37:35...</td>\n",
              "      <td>3</td>\n",
              "      <td>27</td>\n",
              "      <td>0.111111</td>\n",
              "    </tr>\n",
              "    <tr>\n",
              "      <th>4</th>\n",
              "      <td>5</td>\n",
              "      <td>2020-05-06T05:35:13.419000*2020-07-30T21:37:35...</td>\n",
              "      <td>2</td>\n",
              "      <td>27</td>\n",
              "      <td>0.074074</td>\n",
              "    </tr>\n",
              "  </tbody>\n",
              "</table>\n",
              "</div>\n",
              "      <button class=\"colab-df-convert\" onclick=\"convertToInteractive('df-c12d9b78-1854-44f6-9819-6a3a0bacd19d')\"\n",
              "              title=\"Convert this dataframe to an interactive table.\"\n",
              "              style=\"display:none;\">\n",
              "        \n",
              "  <svg xmlns=\"http://www.w3.org/2000/svg\" height=\"24px\"viewBox=\"0 0 24 24\"\n",
              "       width=\"24px\">\n",
              "    <path d=\"M0 0h24v24H0V0z\" fill=\"none\"/>\n",
              "    <path d=\"M18.56 5.44l.94 2.06.94-2.06 2.06-.94-2.06-.94-.94-2.06-.94 2.06-2.06.94zm-11 1L8.5 8.5l.94-2.06 2.06-.94-2.06-.94L8.5 2.5l-.94 2.06-2.06.94zm10 10l.94 2.06.94-2.06 2.06-.94-2.06-.94-.94-2.06-.94 2.06-2.06.94z\"/><path d=\"M17.41 7.96l-1.37-1.37c-.4-.4-.92-.59-1.43-.59-.52 0-1.04.2-1.43.59L10.3 9.45l-7.72 7.72c-.78.78-.78 2.05 0 2.83L4 21.41c.39.39.9.59 1.41.59.51 0 1.02-.2 1.41-.59l7.78-7.78 2.81-2.81c.8-.78.8-2.07 0-2.86zM5.41 20L4 18.59l7.72-7.72 1.47 1.35L5.41 20z\"/>\n",
              "  </svg>\n",
              "      </button>\n",
              "      \n",
              "  <style>\n",
              "    .colab-df-container {\n",
              "      display:flex;\n",
              "      flex-wrap:wrap;\n",
              "      gap: 12px;\n",
              "    }\n",
              "\n",
              "    .colab-df-convert {\n",
              "      background-color: #E8F0FE;\n",
              "      border: none;\n",
              "      border-radius: 50%;\n",
              "      cursor: pointer;\n",
              "      display: none;\n",
              "      fill: #1967D2;\n",
              "      height: 32px;\n",
              "      padding: 0 0 0 0;\n",
              "      width: 32px;\n",
              "    }\n",
              "\n",
              "    .colab-df-convert:hover {\n",
              "      background-color: #E2EBFA;\n",
              "      box-shadow: 0px 1px 2px rgba(60, 64, 67, 0.3), 0px 1px 3px 1px rgba(60, 64, 67, 0.15);\n",
              "      fill: #174EA6;\n",
              "    }\n",
              "\n",
              "    [theme=dark] .colab-df-convert {\n",
              "      background-color: #3B4455;\n",
              "      fill: #D2E3FC;\n",
              "    }\n",
              "\n",
              "    [theme=dark] .colab-df-convert:hover {\n",
              "      background-color: #434B5C;\n",
              "      box-shadow: 0px 1px 3px 1px rgba(0, 0, 0, 0.15);\n",
              "      filter: drop-shadow(0px 1px 2px rgba(0, 0, 0, 0.3));\n",
              "      fill: #FFFFFF;\n",
              "    }\n",
              "  </style>\n",
              "\n",
              "      <script>\n",
              "        const buttonEl =\n",
              "          document.querySelector('#df-c12d9b78-1854-44f6-9819-6a3a0bacd19d button.colab-df-convert');\n",
              "        buttonEl.style.display =\n",
              "          google.colab.kernel.accessAllowed ? 'block' : 'none';\n",
              "\n",
              "        async function convertToInteractive(key) {\n",
              "          const element = document.querySelector('#df-c12d9b78-1854-44f6-9819-6a3a0bacd19d');\n",
              "          const dataTable =\n",
              "            await google.colab.kernel.invokeFunction('convertToInteractive',\n",
              "                                                     [key], {});\n",
              "          if (!dataTable) return;\n",
              "\n",
              "          const docLinkHtml = 'Like what you see? Visit the ' +\n",
              "            '<a target=\"_blank\" href=https://colab.research.google.com/notebooks/data_table.ipynb>data table notebook</a>'\n",
              "            + ' to learn more about interactive tables.';\n",
              "          element.innerHTML = '';\n",
              "          dataTable['output_type'] = 'display_data';\n",
              "          await google.colab.output.renderOutput(dataTable, element);\n",
              "          const docLink = document.createElement('div');\n",
              "          docLink.innerHTML = docLinkHtml;\n",
              "          element.appendChild(docLink);\n",
              "        }\n",
              "      </script>\n",
              "    </div>\n",
              "  </div>\n",
              "  "
            ]
          },
          "metadata": {},
          "execution_count": 111
        }
      ]
    },
    {
      "cell_type": "code",
      "source": [
        "def get_stats(df):\n",
        "  lis = [\"users_in_timeframe\", \"users_in_convo\", \"engagement\"]\n",
        "  s = df.describe()\n",
        "  o = {}\n",
        "  for l in lis:\n",
        "    o[l+ \"_max\"] = s.loc['max', l]\n",
        "    o[l+\"_min\"] = s.loc['min', l]\n",
        "  return o\n",
        "\n",
        "clojure_engagement_stat = get_stats(clojure_engagement_df)\n",
        "golang_engagement_stat = get_stats(golang_engagement_df)\n",
        "python_general_engagement_stat = get_stats(python_general_engagement_df)\n",
        "general_engagement_stat = get_stats(general_engagement_df)\n",
        "  "
      ],
      "metadata": {
        "id": "wxp49SLNmfW4"
      },
      "execution_count": 112,
      "outputs": []
    },
    {
      "cell_type": "code",
      "source": [
        "print(\"clojure_engagement_stat\", \"=\", clojure_engagement_stat)\n",
        "print(\"golang_engagement_stat\", \"=\", golang_engagement_stat)\n",
        "print(\"python_general_engagement_stat\", \"=\", python_general_engagement_stat)\n",
        "print(\"general_engagement_stat\", \"=\", general_engagement_stat)"
      ],
      "metadata": {
        "colab": {
          "base_uri": "https://localhost:8080/"
        },
        "id": "Yf-kDRwlps7c",
        "outputId": "c191eeba-6559-4c4e-c8f3-3b42bfe6588f"
      },
      "execution_count": 113,
      "outputs": [
        {
          "output_type": "stream",
          "name": "stdout",
          "text": [
            "clojure_engagement_stat = {'users_in_timeframe_max': 27.0, 'users_in_timeframe_min': 16.0, 'users_in_convo_max': 5.0, 'users_in_convo_min': 1.0, 'engagement_max': 0.3125, 'engagement_min': 0.037037037037037035}\n",
            "golang_engagement_stat = {'users_in_timeframe_max': 707.0, 'users_in_timeframe_min': 474.0, 'users_in_convo_max': 29.0, 'users_in_convo_min': 1.0, 'engagement_max': 0.049069373942470386, 'engagement_min': 0.0014144271570014145}\n",
            "python_general_engagement_stat = {'users_in_timeframe_max': 6096.0, 'users_in_timeframe_min': 735.0, 'users_in_convo_max': 301.0, 'users_in_convo_min': 1.0, 'engagement_max': 0.04937664041994751, 'engagement_min': 0.00016404199475065617}\n",
            "general_engagement_stat = {'users_in_timeframe_max': 45.0, 'users_in_timeframe_min': 20.0, 'users_in_convo_max': 9.0, 'users_in_convo_min': 1.0, 'engagement_max': 0.3, 'engagement_min': 0.022222222222222223}\n"
          ]
        }
      ]
    },
    {
      "cell_type": "code",
      "source": [
        "python_general_engagement_df.head()"
      ],
      "metadata": {
        "colab": {
          "base_uri": "https://localhost:8080/",
          "height": 204
        },
        "id": "-Vzb57W-tCfO",
        "outputId": "0d12856c-86a5-47f1-c612-6c0a98e67596"
      },
      "execution_count": 114,
      "outputs": [
        {
          "output_type": "execute_result",
          "data": {
            "text/plain": [
              "   conversation_id                                          timeframe  \\\n",
              "0                1  2020-10-01T00:00:04.097000*2020-10-31T18:29:55...   \n",
              "1                2  2020-10-01T00:00:04.097000*2020-10-31T18:29:55...   \n",
              "2                3  2020-10-01T00:00:04.097000*2020-10-31T18:29:55...   \n",
              "3                4  2020-10-01T00:00:04.097000*2020-10-31T18:29:55...   \n",
              "4                5  2020-10-01T00:00:04.097000*2020-10-31T18:29:55...   \n",
              "\n",
              "   users_in_convo  users_in_timeframe  engagement  \n",
              "0              46                5399    0.008520  \n",
              "1              26                5399    0.004816  \n",
              "2               1                5399    0.000185  \n",
              "3              10                5399    0.001852  \n",
              "4              62                5399    0.011484  "
            ],
            "text/html": [
              "\n",
              "  <div id=\"df-715da622-3577-4f31-8397-ce9f3c7a5baf\">\n",
              "    <div class=\"colab-df-container\">\n",
              "      <div>\n",
              "<style scoped>\n",
              "    .dataframe tbody tr th:only-of-type {\n",
              "        vertical-align: middle;\n",
              "    }\n",
              "\n",
              "    .dataframe tbody tr th {\n",
              "        vertical-align: top;\n",
              "    }\n",
              "\n",
              "    .dataframe thead th {\n",
              "        text-align: right;\n",
              "    }\n",
              "</style>\n",
              "<table border=\"1\" class=\"dataframe\">\n",
              "  <thead>\n",
              "    <tr style=\"text-align: right;\">\n",
              "      <th></th>\n",
              "      <th>conversation_id</th>\n",
              "      <th>timeframe</th>\n",
              "      <th>users_in_convo</th>\n",
              "      <th>users_in_timeframe</th>\n",
              "      <th>engagement</th>\n",
              "    </tr>\n",
              "  </thead>\n",
              "  <tbody>\n",
              "    <tr>\n",
              "      <th>0</th>\n",
              "      <td>1</td>\n",
              "      <td>2020-10-01T00:00:04.097000*2020-10-31T18:29:55...</td>\n",
              "      <td>46</td>\n",
              "      <td>5399</td>\n",
              "      <td>0.008520</td>\n",
              "    </tr>\n",
              "    <tr>\n",
              "      <th>1</th>\n",
              "      <td>2</td>\n",
              "      <td>2020-10-01T00:00:04.097000*2020-10-31T18:29:55...</td>\n",
              "      <td>26</td>\n",
              "      <td>5399</td>\n",
              "      <td>0.004816</td>\n",
              "    </tr>\n",
              "    <tr>\n",
              "      <th>2</th>\n",
              "      <td>3</td>\n",
              "      <td>2020-10-01T00:00:04.097000*2020-10-31T18:29:55...</td>\n",
              "      <td>1</td>\n",
              "      <td>5399</td>\n",
              "      <td>0.000185</td>\n",
              "    </tr>\n",
              "    <tr>\n",
              "      <th>3</th>\n",
              "      <td>4</td>\n",
              "      <td>2020-10-01T00:00:04.097000*2020-10-31T18:29:55...</td>\n",
              "      <td>10</td>\n",
              "      <td>5399</td>\n",
              "      <td>0.001852</td>\n",
              "    </tr>\n",
              "    <tr>\n",
              "      <th>4</th>\n",
              "      <td>5</td>\n",
              "      <td>2020-10-01T00:00:04.097000*2020-10-31T18:29:55...</td>\n",
              "      <td>62</td>\n",
              "      <td>5399</td>\n",
              "      <td>0.011484</td>\n",
              "    </tr>\n",
              "  </tbody>\n",
              "</table>\n",
              "</div>\n",
              "      <button class=\"colab-df-convert\" onclick=\"convertToInteractive('df-715da622-3577-4f31-8397-ce9f3c7a5baf')\"\n",
              "              title=\"Convert this dataframe to an interactive table.\"\n",
              "              style=\"display:none;\">\n",
              "        \n",
              "  <svg xmlns=\"http://www.w3.org/2000/svg\" height=\"24px\"viewBox=\"0 0 24 24\"\n",
              "       width=\"24px\">\n",
              "    <path d=\"M0 0h24v24H0V0z\" fill=\"none\"/>\n",
              "    <path d=\"M18.56 5.44l.94 2.06.94-2.06 2.06-.94-2.06-.94-.94-2.06-.94 2.06-2.06.94zm-11 1L8.5 8.5l.94-2.06 2.06-.94-2.06-.94L8.5 2.5l-.94 2.06-2.06.94zm10 10l.94 2.06.94-2.06 2.06-.94-2.06-.94-.94-2.06-.94 2.06-2.06.94z\"/><path d=\"M17.41 7.96l-1.37-1.37c-.4-.4-.92-.59-1.43-.59-.52 0-1.04.2-1.43.59L10.3 9.45l-7.72 7.72c-.78.78-.78 2.05 0 2.83L4 21.41c.39.39.9.59 1.41.59.51 0 1.02-.2 1.41-.59l7.78-7.78 2.81-2.81c.8-.78.8-2.07 0-2.86zM5.41 20L4 18.59l7.72-7.72 1.47 1.35L5.41 20z\"/>\n",
              "  </svg>\n",
              "      </button>\n",
              "      \n",
              "  <style>\n",
              "    .colab-df-container {\n",
              "      display:flex;\n",
              "      flex-wrap:wrap;\n",
              "      gap: 12px;\n",
              "    }\n",
              "\n",
              "    .colab-df-convert {\n",
              "      background-color: #E8F0FE;\n",
              "      border: none;\n",
              "      border-radius: 50%;\n",
              "      cursor: pointer;\n",
              "      display: none;\n",
              "      fill: #1967D2;\n",
              "      height: 32px;\n",
              "      padding: 0 0 0 0;\n",
              "      width: 32px;\n",
              "    }\n",
              "\n",
              "    .colab-df-convert:hover {\n",
              "      background-color: #E2EBFA;\n",
              "      box-shadow: 0px 1px 2px rgba(60, 64, 67, 0.3), 0px 1px 3px 1px rgba(60, 64, 67, 0.15);\n",
              "      fill: #174EA6;\n",
              "    }\n",
              "\n",
              "    [theme=dark] .colab-df-convert {\n",
              "      background-color: #3B4455;\n",
              "      fill: #D2E3FC;\n",
              "    }\n",
              "\n",
              "    [theme=dark] .colab-df-convert:hover {\n",
              "      background-color: #434B5C;\n",
              "      box-shadow: 0px 1px 3px 1px rgba(0, 0, 0, 0.15);\n",
              "      filter: drop-shadow(0px 1px 2px rgba(0, 0, 0, 0.3));\n",
              "      fill: #FFFFFF;\n",
              "    }\n",
              "  </style>\n",
              "\n",
              "      <script>\n",
              "        const buttonEl =\n",
              "          document.querySelector('#df-715da622-3577-4f31-8397-ce9f3c7a5baf button.colab-df-convert');\n",
              "        buttonEl.style.display =\n",
              "          google.colab.kernel.accessAllowed ? 'block' : 'none';\n",
              "\n",
              "        async function convertToInteractive(key) {\n",
              "          const element = document.querySelector('#df-715da622-3577-4f31-8397-ce9f3c7a5baf');\n",
              "          const dataTable =\n",
              "            await google.colab.kernel.invokeFunction('convertToInteractive',\n",
              "                                                     [key], {});\n",
              "          if (!dataTable) return;\n",
              "\n",
              "          const docLinkHtml = 'Like what you see? Visit the ' +\n",
              "            '<a target=\"_blank\" href=https://colab.research.google.com/notebooks/data_table.ipynb>data table notebook</a>'\n",
              "            + ' to learn more about interactive tables.';\n",
              "          element.innerHTML = '';\n",
              "          dataTable['output_type'] = 'display_data';\n",
              "          await google.colab.output.renderOutput(dataTable, element);\n",
              "          const docLink = document.createElement('div');\n",
              "          docLink.innerHTML = docLinkHtml;\n",
              "          element.appendChild(docLink);\n",
              "        }\n",
              "      </script>\n",
              "    </div>\n",
              "  </div>\n",
              "  "
            ]
          },
          "metadata": {},
          "execution_count": 114
        }
      ]
    },
    {
      "cell_type": "code",
      "source": [
        "out_df.channel_name.unique()"
      ],
      "metadata": {
        "colab": {
          "base_uri": "https://localhost:8080/"
        },
        "id": "zjSBfs0I_Hgh",
        "outputId": "2b0d7f7e-31ff-4a9a-e255-2a262b2c8b47"
      },
      "execution_count": 115,
      "outputs": [
        {
          "output_type": "execute_result",
          "data": {
            "text/plain": [
              "array(['clojure', 'golang', 'python-general', 'general'], dtype=object)"
            ]
          },
          "metadata": {},
          "execution_count": 115
        }
      ]
    },
    {
      "cell_type": "markdown",
      "source": [
        "### Using engagemnt with the holidays"
      ],
      "metadata": {
        "id": "lDw5dw7rX_f6"
      }
    },
    {
      "cell_type": "code",
      "source": [
        "import copy\n",
        "\n",
        "dic = {'clojure': clojure_engagement_df, 'golang': golang_engagement_df, 'python-general': python_general_engagement_df, 'general': general_engagement_df}\n",
        "\n",
        "\n",
        "def get_engagement_means(df):\n",
        "  date_lists = copy.deepcopy(df) \n",
        "  date_list_set = [[] for x in date_lists]\n",
        "  date_list_engagement = [[] for x in date_lists]\n",
        "\n",
        "  for idx, date in enumerate(date_lists):\n",
        "    for convo in date:\n",
        "      st = str(convo[0])+\"*\"+convo[1]+\"*\"+convo[2]\n",
        "      if st in date_list_set[idx]:\n",
        "        pass\n",
        "      else:\n",
        "        date_list_set[idx].append(st)\n",
        "        df = dic[convo[1]]\n",
        "        date_list_engagement[idx].append(df[(df[\"timeframe\"] == convo[2])&(df[\"conversation_id\"] == convo[0])][\"engagement\"])\n",
        "  means = []\n",
        "  for sublist in date_list_engagement:\n",
        "      mean_value = pd.concat(sublist).mean()\n",
        "      means.append(mean_value)\n",
        "  return means\n",
        "\n",
        "ny_engagment = get_engagement_means(ny[0])\n",
        "ch_engagment = get_engagement_means(ch[0])"
      ],
      "metadata": {
        "id": "4MCC9j0SzNKf"
      },
      "execution_count": 116,
      "outputs": []
    },
    {
      "cell_type": "code",
      "source": [
        "fig, ax = plt.subplots()\n",
        "ax.bar([str (x.day) +\"/\" +str(x.month) for x in ny[1]],ny_engagment)\n",
        "ax.set_title(\"User engagemnt around NewYear\")\n",
        "ax.set_xlabel('Dates')\n",
        "ax.set_ylabel('User engagement')\n",
        "plt.show()"
      ],
      "metadata": {
        "colab": {
          "base_uri": "https://localhost:8080/",
          "height": 295
        },
        "id": "vJfQPeYX01Vo",
        "outputId": "1014a660-0c69-4768-d04f-88ee9acbe842"
      },
      "execution_count": 117,
      "outputs": [
        {
          "output_type": "display_data",
          "data": {
            "text/plain": [
              "<Figure size 432x288 with 1 Axes>"
            ],
            "image/png": "[encoded data removed]"
          },
          "metadata": {
            "needs_background": "light"
          }
        }
      ]
    },
    {
      "cell_type": "code",
      "source": [
        "fig, ax = plt.subplots()\n",
        "ax.bar([str (x.day) +\"/\" +str(x.month) for x in ch[1]],ch_engagment)\n",
        "ax.set_title(\"User engagemnt around Christmas\")\n",
        "ax.set_xlabel('Dates')\n",
        "ax.set_ylabel('User engagement')\n",
        "plt.show()"
      ],
      "metadata": {
        "colab": {
          "base_uri": "https://localhost:8080/",
          "height": 295
        },
        "id": "8C5tVDU_K90x",
        "outputId": "601462b2-c1c9-4e2f-87a4-bdaba39ada16"
      },
      "execution_count": 118,
      "outputs": [
        {
          "output_type": "display_data",
          "data": {
            "text/plain": [
              "<Figure size 432x288 with 1 Axes>"
            ],
            "image/png": "[encoded data removed]"
          },
          "metadata": {
            "needs_background": "light"
          }
        }
      ]
    },
    {
      "cell_type": "markdown",
      "source": [
        "# Analysis 1 results"
      ],
      "metadata": {
        "id": "oz3dbIdiYF1B"
      }
    },
    {
      "cell_type": "code",
      "source": [
        "[str (x.month) +\"/\" +str(x.day) for x in ny[1]]"
      ],
      "metadata": {
        "colab": {
          "base_uri": "https://localhost:8080/"
        },
        "id": "5PCuZE6HJj1A",
        "outputId": "ce38bd75-bd76-4c2b-883c-d263a29a153e"
      },
      "execution_count": 119,
      "outputs": [
        {
          "output_type": "execute_result",
          "data": {
            "text/plain": [
              "['1/4', '1/3', '1/2', '1/1', '12/31', '12/30', '12/29']"
            ]
          },
          "metadata": {},
          "execution_count": 119
        }
      ]
    },
    {
      "cell_type": "markdown",
      "source": [],
      "metadata": {
        "id": "9_HYs5CRJwWx"
      }
    },
    {
      "cell_type": "code",
      "source": [
        "# Create a figure and a set of subplots with 2 rows and 2 columns\n",
        "fig, axs = plt.subplots(2, 2,figsize=(10, 5))\n",
        "colors = ['darkblue', 'navy', 'midnightblue', 'darkslateblue', 'slateblue', 'purple', 'indigo']\n",
        "colors2 =['darkred', 'maroon', 'darkolivegreen', 'olivedrab', 'darkkhaki', 'sienna', 'saddlebrown']\n",
        "\n",
        "\n",
        "import matplotlib.ticker as mtick\n",
        "axs[0, 0].yaxis.grid()\n",
        "# Draw the first bar plot on the first subplot\n",
        "axs[0, 0].bar(list(reversed([str (x.day) +\"/\" +str(x.month) for x in ny[1]])),list(reversed([len(x) for x in ny[0]])), width=0.5, color=\"saddlebrown\")\n",
        "axs[0, 0].set_title(\"Number of Messages around Newyear\")\n",
        "axs[0, 0].set_xlabel('Dates')\n",
        "axs[0, 0].set_ylabel('No. of messages')\n",
        "\n",
        "\n",
        "# Draw the second bar plot on the second subplot\n",
        "axs[1, 0].yaxis.grid()\n",
        "axs[1, 0].bar(list(reversed([str (x.day) +\"/\" +str(x.month) for x in ch[1]])),list(reversed([len(x) for x in ch[0]])), width=0.5, color=\"darkkhaki\")\n",
        "axs[1, 0].set_title(\"Number of Messages around Christmas\")\n",
        "axs[1, 0].set_xlabel('Dates')\n",
        "axs[1, 0].set_ylabel('No. of messages')\n",
        "\n",
        "# Draw the third bar plot on the third subplot\n",
        "axs[0, 1].yaxis.grid()\n",
        "axs[0, 1].bar(list(reversed([str (x.day) +\"/\" +str(x.month) for x in ny[1]])),list(reversed(ny_engagment)), width=0.5, color=\"saddlebrown\")\n",
        "axs[0, 1].set_yticks([0.0000, 0.0025, 0.0050,0.0075,0.0100, 0.0125])\n",
        "axs[0, 1].yaxis.set_major_formatter(mtick.PercentFormatter(1.0))\n",
        "axs[0, 1].set_title(\"User engagement around NewYear\")\n",
        "axs[0, 1].set_xlabel('Dates')\n",
        "axs[0, 1].set_ylabel('User engagement')\n",
        "\n",
        "\n",
        "# Draw the fourth bar plot on the fourth subplot\n",
        "axs[1, 1].yaxis.grid()\n",
        "axs[1, 1].bar(list(reversed([str (x.day) +\"/\" +str(x.month) for x in ch[1]])),list(reversed(ch_engagment)), width=0.5, color=\"darkkhaki\")\n",
        "axs[1, 1].yaxis.set_major_formatter(mtick.PercentFormatter(1.0))\n",
        "axs[1, 1].set_yticks([0.0000, 0.0025, 0.0050,0.0075,0.0100, 0.0125])\n",
        "axs[1, 1].set_title(\"User engagement around Christmas\")\n",
        "axs[1, 1].set_xlabel('Dates')\n",
        "axs[1, 1].set_ylabel('User engagement')\n",
        "\n",
        "\n",
        "\n",
        "fig.subplots_adjust(wspace=0.3, hspace=0.5)\n",
        "\n",
        "# Show the plot\n",
        "plt.show()\n"
      ],
      "metadata": {
        "colab": {
          "base_uri": "https://localhost:8080/",
          "height": 350
        },
        "id": "Y5EyHHSxM4iM",
        "outputId": "f5f328f2-3c22-4c24-f4b0-67fc17902c7b"
      },
      "execution_count": 155,
      "outputs": [
        {
          "output_type": "display_data",
          "data": {
            "text/plain": [
              "<Figure size 720x360 with 4 Axes>"
            ],
            "image/png": "[encoded data removed]"
          },
          "metadata": {
            "needs_background": "light"
          }
        }
      ]
    },
    {
      "cell_type": "markdown",
      "source": [
        "# Analysis 2\n"
      ],
      "metadata": {
        "id": "6zPE-fm0YJCA"
      }
    },
    {
      "cell_type": "code",
      "source": [
        "def get_weekday_df(df):\n",
        "  return [len(df[df[\"weekday\"]==0]), len(df[df[\"weekday\"]==1]),len(df[df[\"weekday\"]==2]),len(df[df[\"weekday\"]==3]),len(df[df[\"weekday\"]==4]),len(df[df[\"weekday\"]==5]),len(df[df[\"weekday\"]==6])]\n",
        "\n",
        "python_weekday = get_weekday_df(python_general_df)\n",
        "golang_weekday = get_weekday_df(golang_df)\n",
        "general_weekday = get_weekday_df(general_df)\n",
        "clojure_weekday = get_weekday_df(clojure_df)\n",
        "\n",
        "\n",
        "def get_weekday_weekend_avg(lst):\n",
        "  # Extract the first five integers\n",
        "  mon = lst[0]\n",
        "  tue = lst[1]\n",
        "  wed = lst[2]\n",
        "  thu = lst[3]\n",
        "  fri = lst[4]\n",
        "  sat = lst[5]\n",
        "  sun = lst[6]\n",
        "\n",
        "\n",
        "  # Calculate the mean of the first five integers\n",
        "  return [np.mean(mon),np.mean(tue),  np.mean(wed),  np.mean(thu),  np.mean(fri),  np.mean(sat),  np.mean(sun)]\n",
        "\n",
        "python_mon_avg, python_tue_avg, python_wed_avg,python_thu_avg,python_fri_avg,python_sat_avg,python_sun_avg = get_weekday_weekend_avg(python_weekday)\n",
        "golang_mon_avg, golang_tue_avg, golang_wed_avg,golang_thu_avg,golang_fri_avg,golang_sat_avg,golang_sun_avg = get_weekday_weekend_avg(golang_weekday)\n",
        "general_mon_avg, general_tue_avg, general_wed_avg,general_thu_avg,general_fri_avg,general_sat_avg,general_sun_avg = get_weekday_weekend_avg(general_weekday)\n",
        "clojure_mon_avg, clojure_tue_avg, clojure_wed_avg,clojure_thu_avg,clojure_fri_avg,clojure_sat_avg,clojure_sun_avg = get_weekday_weekend_avg(clojure_weekday)\n",
        "\n",
        "\n"
      ],
      "metadata": {
        "id": "qpig7M1VdogI"
      },
      "execution_count": 121,
      "outputs": []
    },
    {
      "cell_type": "code",
      "source": [
        "def get_weekday_df_messages(df):\n",
        "  return [len(df[df[\"weekday\"]==0]), len(df[df[\"weekday\"]==1]),len(df[df[\"weekday\"]==2]),len(df[df[\"weekday\"]==3]),len(df[df[\"weekday\"]==4]),len(df[df[\"weekday\"]==5]),len(df[df[\"weekday\"]==6])]"
      ],
      "metadata": {
        "id": "qnaJc4WVciUc"
      },
      "execution_count": 122,
      "outputs": []
    },
    {
      "cell_type": "code",
      "source": [
        "# df_dec_jan\n",
        "# df_only_dates\n",
        "\n",
        "other_dates = get_weekday_df(df_dec_jan)\n",
        "holi_dates = get_weekday_df(df_only_dates)\n",
        "\n",
        "other_dates_avg = get_weekday_weekend_avg(other_dates)\n",
        "holi_dates_avg = get_weekday_weekend_avg(holi_dates)\n",
        "\n",
        "print(other_dates_avg)\n",
        "print(holi_dates_avg)\n",
        "X_axis = np.arange(7)\n",
        "\n",
        "\n",
        "# Create some data\n",
        "x = np.array([0,1,2,3,4,5,6])\n",
        "\n",
        "\n",
        "plt.figure(figsize=(6, 4))  # width, height in inches\n",
        "\n",
        "plt.axhline(y=0, color=\"black\")\n",
        "# plt.grid()\n",
        "plt.axes().yaxis.grid()\n",
        "\n",
        "# Create the bar plot\n",
        "bar_width = 0.2  # Set the width of each bar\n",
        "\n",
        "plt.bar(x - bar_width*1.5, other_dates_avg, bar_width,label=\"Normal Week \\n without hoilday\")\n",
        "plt.bar(x - bar_width*0.5, holi_dates_avg, bar_width,label=\"Week with holiday\")\n",
        "\n",
        "# Set the axis labels\n",
        "\n",
        "plt.xticks(X_axis, [\"Mon\",\"Tue\", \"Wed(H)\",\"Thu\" ,\"Fri\",\"Sat\", \"Sun\"])\n",
        "plt.ylabel('No. of messages')\n",
        "plt.xlabel('Week')\n",
        "\n",
        "# Add a legend\n",
        "plt.legend()\n",
        "plt.legend(bbox_to_anchor=(1.02, 0.1), loc='upper left', borderaxespad=0)\n",
        "# Show the plot\n",
        "plt.show()\n",
        "\n",
        "## If possible do a engagement plot\n"
      ],
      "metadata": {
        "colab": {
          "base_uri": "https://localhost:8080/",
          "height": 367
        },
        "id": "JJA-dygKMyq-",
        "outputId": "5370e7cc-c5e4-437c-e312-6e2d87df9599"
      },
      "execution_count": 154,
      "outputs": [
        {
          "output_type": "stream",
          "name": "stdout",
          "text": [
            "[3297.0, 4361.0, 5232.0, 3188.0, 3704.0, 2103.0, 2942.0]\n",
            "[2860.0, 1926.0, 2316.0, 4381.0, 3564.0, 3789.0, 3338.0]\n"
          ]
        },
        {
          "output_type": "stream",
          "name": "stderr",
          "text": [
            "<ipython-input-154-24cdd433b63f>:23: MatplotlibDeprecationWarning: Adding an axes using the same arguments as a previous axes currently reuses the earlier instance.  In a future version, a new instance will always be created and returned.  Meanwhile, this warning can be suppressed, and the future behavior ensured, by passing a unique label to each axes instance.\n",
            "  plt.axes().yaxis.grid()\n"
          ]
        },
        {
          "output_type": "display_data",
          "data": {
            "text/plain": [
              "<Figure size 432x288 with 1 Axes>"
            ],
            "image/png": "[encoded data removed]"
          },
          "metadata": {
            "needs_background": "light"
          }
        }
      ]
    },
    {
      "cell_type": "code",
      "source": [
        "print(other_dates_avg)\n",
        "print(holi_dates_avg)\n"
      ],
      "metadata": {
        "colab": {
          "base_uri": "https://localhost:8080/"
        },
        "id": "Foi2W0-9gtf4",
        "outputId": "4b0c1bae-6c7c-4782-84df-45405be4e43f"
      },
      "execution_count": 124,
      "outputs": [
        {
          "output_type": "stream",
          "name": "stdout",
          "text": [
            "[3297.0, 4361.0, 5232.0, 3188.0, 3704.0, 2103.0, 2942.0]\n",
            "[2860.0, 1926.0, 2316.0, 4381.0, 3564.0, 3789.0, 3338.0]\n"
          ]
        }
      ]
    },
    {
      "cell_type": "code",
      "source": [
        "# Create sample data\n",
        "set1 = other_dates_avg\n",
        "set2 = holi_dates_avg\n",
        "\n",
        "from scipy.stats import mannwhitneyu\n",
        "\n",
        "\n",
        "# Perform the Wilcoxon rank-sum test\n",
        "stat, p_value = mannwhitneyu(set1, set2)\n",
        "# Print the test statistic and p-value\n",
        "print('Test statistic:', stat)\n",
        "print('p-value:', p_value)\n",
        "\n",
        "\n",
        "import statistics as stats\n",
        "# Calculate Cohen's d\n",
        "mean1 = stats.mean(set1)\n",
        "mean2 = stats.mean(set2)\n",
        "std1 = stats.stdev(set1)\n",
        "std2 = stats.stdev(set2)\n",
        "\n",
        "cohen_d = (mean1 - mean2) / (stats.harmonic_mean([std1, std2]))\n",
        "\n",
        "# Print the effect size\n",
        "print(\"Cohen's d effect size:\", cohen_d)\n"
      ],
      "metadata": {
        "colab": {
          "base_uri": "https://localhost:8080/"
        },
        "id": "9u3LayqFf06z",
        "outputId": "b3dcacbe-5dc4-4efc-d065-1a3ff9873717"
      },
      "execution_count": 125,
      "outputs": [
        {
          "output_type": "stream",
          "name": "stdout",
          "text": [
            "Test statistic: 28.0\n",
            "p-value: 0.7103729603729605\n",
            "Cohen's d effect size: 0.4080222813807406\n"
          ]
        }
      ]
    },
    {
      "cell_type": "code",
      "source": [
        "def calculate_standardization(python_weekday):\n",
        "  mu =  np.array(get_weekday_weekend_avg(python_weekday)).mean()\n",
        "  std = np.array(get_weekday_weekend_avg(python_weekday)).std()\n",
        "  return (np.array(get_weekday_weekend_avg(python_weekday)) - mu)/std"
      ],
      "metadata": {
        "id": "5PZr3uj7RJTf"
      },
      "execution_count": 126,
      "outputs": []
    },
    {
      "cell_type": "code",
      "source": [
        "python_m = calculate_standardization(python_weekday)\n",
        "golang_m = calculate_standardization(golang_weekday)\n",
        "general_m = calculate_standardization(general_weekday)\n",
        "clojure_m = calculate_standardization(clojure_weekday)\n"
      ],
      "metadata": {
        "id": "QfayzHbHSVYw"
      },
      "execution_count": 127,
      "outputs": []
    },
    {
      "cell_type": "code",
      "source": [
        "import matplotlib.pyplot as plt\n",
        "import numpy as np\n",
        "\n",
        "\n",
        "\n",
        "# Create a figure and a set of subplots with 2 rows and 2 columns\n",
        "fig, axs = plt.subplots(2, 2,figsize=(15, 8))\n",
        "\n",
        "# Draw the first bar plot on the first subplot\n",
        "axs[0, 0].bar([\"Mon\",\"Tue\", \"Wed\",\"Thu\" ,\"Fri\",\"Sat\", \"Sun\"], python_m)\n",
        "axs[0, 0].set_title(\"python_general\")\n",
        "axs[0, 0].set_xlabel('Days Split')\n",
        "axs[0, 0].set_ylabel('No. of messages')\n",
        "# Draw the second bar plot on the second subplot\n",
        "axs[0, 1].bar([\"Mon\",\"Tue\", \"Wed\",\"Thu\" ,\"Fri\",\"Sat\", \"Sun\"], golang_m)\n",
        "axs[0, 1].set_title(\"golang\")\n",
        "axs[0, 1].set_xlabel('Days Split')\n",
        "axs[0, 1].set_ylabel('No. of messages')\n",
        "# Draw the third bar plot on the third subplot\n",
        "axs[1, 0].bar([\"Mon\",\"Tue\", \"Wed\",\"Thu\" ,\"Fri\",\"Sat\", \"Sun\"], general_m)\n",
        "axs[1, 0].set_title(\"racketgeneral\")\n",
        "axs[1, 0].set_xlabel('Days Split')\n",
        "axs[1, 0].set_ylabel('No. of messages')\n",
        "# Draw the fourth bar plot on the fourth subplot\n",
        "axs[1, 1].bar([\"Mon\",\"Tue\", \"Wed\",\"Thu\" ,\"Fri\",\"Sat\", \"Sun\"], clojure_m)\n",
        "axs[1, 1].set_title(\"clojure\")\n",
        "axs[1, 1].set_xlabel('Days Split')\n",
        "axs[1, 1].set_ylabel('No. of messages')\n",
        "\n",
        "fig.subplots_adjust(wspace=0.3, hspace=0.8)\n",
        "# Show the plot\n",
        "plt.show()"
      ],
      "metadata": {
        "colab": {
          "base_uri": "https://localhost:8080/",
          "height": 513
        },
        "id": "yohq3MHg-6uo",
        "outputId": "17f6f8e7-886b-459f-e03b-d7557b34489d"
      },
      "execution_count": 128,
      "outputs": [
        {
          "output_type": "display_data",
          "data": {
            "text/plain": [
              "<Figure size 1080x576 with 4 Axes>"
            ],
            "image/png": "[encoded data removed]"
          },
          "metadata": {
            "needs_background": "light"
          }
        }
      ]
    },
    {
      "cell_type": "code",
      "source": [
        "\n",
        "# Create some data\n",
        "x = np.array([0,1,2,3,4,5,6])\n",
        "\n",
        "plt.figure(figsize=(6, 4))  # width, height in inches\n",
        "\n",
        "plt.axhline(y=0, color=\"black\")\n",
        "# plt.grid()\n",
        "plt.axes().yaxis.grid()\n",
        "\n",
        "# Create the bar plot\n",
        "bar_width = 0.2  # Set the width of each bar\n",
        "plt.bar(x - bar_width*1.5, python_m, bar_width,label=\"Python\")\n",
        "plt.bar(x - bar_width*0.5, golang_m, bar_width,label=\"Golang\")\n",
        "plt.bar(x + bar_width*0.5, general_m, bar_width,label=\"General\")\n",
        "plt.bar(x + bar_width*1.5, clojure_m, bar_width,label=\"Clojure\")\n",
        "\n",
        "# Set the axis labels\n",
        "plt.xticks(X_axis, [\"Mon\",\"Tue\", \"Wed\",\"Thu\" ,\"Fri\",\"Sat\", \"Sun\"])\n",
        "plt.ylabel('Standardization on No. of messages')\n",
        "plt.xlabel('Day')\n",
        "\n",
        "# Add a legend\n",
        "plt.legend()\n",
        "plt.legend(bbox_to_anchor=(1.02, 0.1), loc='upper left', borderaxespad=0)\n",
        "# Show the plot\n",
        "plt.show()"
      ],
      "metadata": {
        "colab": {
          "base_uri": "https://localhost:8080/",
          "height": 344
        },
        "id": "b2RzWT7Yiuln",
        "outputId": "e9ab8aec-ab6f-41cd-82cc-dd73e1fe4cb3"
      },
      "execution_count": 129,
      "outputs": [
        {
          "output_type": "stream",
          "name": "stderr",
          "text": [
            "<ipython-input-129-cfc5c4fea2bc>:8: MatplotlibDeprecationWarning: Adding an axes using the same arguments as a previous axes currently reuses the earlier instance.  In a future version, a new instance will always be created and returned.  Meanwhile, this warning can be suppressed, and the future behavior ensured, by passing a unique label to each axes instance.\n",
            "  plt.axes().yaxis.grid()\n"
          ]
        },
        {
          "output_type": "display_data",
          "data": {
            "text/plain": [
              "<Figure size 432x288 with 1 Axes>"
            ],
            "image/png": "[encoded data removed]"
          },
          "metadata": {
            "needs_background": "light"
          }
        }
      ]
    },
    {
      "cell_type": "code",
      "source": [
        "total_list = []\n",
        "for i in range(7):\n",
        "  total_list.append(python_weekday[i]+general_weekday[i]+clojure_weekday[i]+golang_weekday[i])\n",
        "print(total_list)\n"
      ],
      "metadata": {
        "colab": {
          "base_uri": "https://localhost:8080/"
        },
        "id": "mElDrzrk_SZk",
        "outputId": "287cfe30-19bb-436e-e894-6a1c2d78a6ae"
      },
      "execution_count": 130,
      "outputs": [
        {
          "output_type": "stream",
          "name": "stdout",
          "text": [
            "[214052, 223443, 224717, 237021, 218315, 198547, 191998]\n"
          ]
        }
      ]
    }
  ]
}